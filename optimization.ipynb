{
 "cells": [
  {
   "cell_type": "code",
   "execution_count": null,
   "metadata": {},
   "outputs": [],
   "source": []
  },
  {
   "cell_type": "markdown",
   "metadata": {},
   "source": [
    "I want to use an example PR to illustrate the general idea of compiler optimization in tinygrad. \n",
    "\n",
    "Consider a range operation `range(1, 78, 2)`, in tinygrad this would be `Tensor.arange(1, 78, 2)`, and it's upon evaluation, it will be compiled into a series of operation"
   ]
  },
  {
   "cell_type": "code",
   "execution_count": null,
   "metadata": {},
   "outputs": [],
   "source": [
    "# Put this in a script called \"script.py\" and run it with `DEBUG=5 python script.py`\n",
    "from tinygrad.tensor import Tensor\n",
    "a = Tensor.arange(1, 78, 2)\n",
    "result = a.numpy()\n",
    "print(result)"
   ]
  },
  {
   "cell_type": "markdown",
   "metadata": {},
   "source": [
    "The debug flag will print out these\n",
    "\n",
    "   0 UOps.DEFINE_GLOBAL  : ptr.dtypes.int            []                               (0, 'data0', True)\n",
    "   1 UOps.SPECIAL        : dtypes.int                []                               (0, 'gidx0', 13)\n",
    "   2 UOps.SPECIAL        : dtypes.int                []                               (0, 'lidx1', 3)\n",
    "   3 UOps.DEFINE_ACC     : dtypes.int                []                               0\n",
    "   4 UOps.CONST          : dtypes.int                []                               0\n",
    "   5 UOps.CONST          : dtypes.int                []                               39\n",
    "   6 UOps.CONST          : dtypes.int                []                               2\n",
    "   7 UOps.CONST          : dtypes.int                []                               -3\n",
    "   8 UOps.ALU            : dtypes.int                [1, 7]                           BinaryOps.MUL\n",
    "   9 UOps.CONST          : dtypes.int                []                               -1\n",
    "  10 UOps.ALU            : dtypes.int                [2, 9]                           BinaryOps.MUL\n",
    "  11 UOps.ALU            : dtypes.int                [8, 10]                          BinaryOps.ADD\n",
    "  12 UOps.CONST          : dtypes.int                []                               -37\n",
    "  13 UOps.CONST          : dtypes.int                []                               3\n",
    "  14 UOps.ALU            : dtypes.int                [1, 13]                          BinaryOps.MUL\n",
    "  15 UOps.ALU            : dtypes.int                [14, 2]                          BinaryOps.ADD\n",
    "  16 UOps.LOOP           : dtypes.int                [4, 5]                           None\n",
    "  17 UOps.ALU            : dtypes.int                [16, 9]                          BinaryOps.MUL\n",
    "  18 UOps.ALU            : dtypes.int                [11, 17]                         BinaryOps.ADD\n",
    "  19 UOps.ALU            : dtypes.bool               [18, 12]                         BinaryOps.CMPLT\n",
    "  20 UOps.ALU            : dtypes.int                [19, 6, 4]                       TernaryOps.WHERE\n",
    "  21 UOps.ALU            : dtypes.int                [20, 3]                          BinaryOps.ADD\n",
    "  22 UOps.PHI            : dtypes.int                [3, 21, 16]                      None\n",
    "  23 UOps.ENDLOOP        :                           [16]                             None\n",
    "  24 UOps.ALU            : dtypes.int                [22, 9]                          BinaryOps.ADD\n",
    "  25 UOps.STORE          :                           [0, 15, 24]                      None\n",
    "\n",
    "After optimization, they will become something simpler"
   ]
  },
  {
   "cell_type": "markdown",
   "metadata": {},
   "source": []
  }
 ],
 "metadata": {
  "language_info": {
   "name": "python"
  }
 },
 "nbformat": 4,
 "nbformat_minor": 2
}
