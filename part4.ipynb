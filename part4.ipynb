{
 "cells": [
  {
   "cell_type": "code",
   "execution_count": null,
   "metadata": {},
   "outputs": [],
   "source": []
  },
  {
   "cell_type": "markdown",
   "metadata": {},
   "source": [
    "We now have an autograd engine that can run on both CPU and GPU, if you throw in more implementation for other common operations, you can start running some multilayer perceptron already. There is a big limitation though, in part 3, the shape is assumed to be (1,). In tinygrad, this is handled with a shape tracker, let's see how it works and how to implement it. \n",
    "\n",
    "Shapetracker as its name suggests, handles the changing shape of the tensors. Let's look at an example, \n",
    "\n",
    "If we have a Tensor([[1,2,3],[4,5,6]]), which has a shape of (2,3), and we reshape it to (3,2), then when we print it, it shows [[1,2],[3,4],[5,6]]. However, in the internal buffer, it is always [1,2,3,4,5,6]. The only thing that has changes is how we index this buffer and show it on screen."
   ]
  }
 ],
 "metadata": {
  "language_info": {
   "name": "python"
  }
 },
 "nbformat": 4,
 "nbformat_minor": 2
}
