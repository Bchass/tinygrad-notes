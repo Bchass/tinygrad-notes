{
 "cells": [
  {
   "cell_type": "code",
   "execution_count": null,
   "metadata": {},
   "outputs": [],
   "source": []
  },
  {
   "cell_type": "markdown",
   "metadata": {},
   "source": [
    "Consider another example, a tensor with shape (2,3,4) and stride (0,0,1), what does this look like? Taking any step in the zero and first dimension doesn't change the data element, and only taking step in the last dimension does. It is essentially a 4 element list being broadcasted to 3D. If these four elements are \"a\" \"b\" \"c\" \"d\", visually it looks like the sketch below <img src=\"image0.jpg\">.The zeroth dimension is the grid repeated and stacked on the top. "
   ]
  },
  {
   "cell_type": "markdown",
   "metadata": {},
   "source": [
    "Now we want to merge it, given your intuition, how would you merge this while preserving the memeory layout of \"a\" \"b\" \"c\" \"d\" -- to reduce the zero dimension down and have the end tensor as a 6 by 4 grid: <img src=\"image1.jpg\">"
   ]
  },
  {
   "cell_type": "markdown",
   "metadata": {},
   "source": [
    "Next, what happens if we have masks?"
   ]
  }
 ],
 "metadata": {
  "language_info": {
   "name": "python"
  }
 },
 "nbformat": 4,
 "nbformat_minor": 2
}
